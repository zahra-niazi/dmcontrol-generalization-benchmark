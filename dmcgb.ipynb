{
  "nbformat": 4,
  "nbformat_minor": 0,
  "metadata": {
    "colab": {
      "provenance": [],
      "gpuType": "T4",
      "authorship_tag": "ABX9TyOzc1t0LvF0nNDt/BavQYEP",
      "include_colab_link": true
    },
    "kernelspec": {
      "name": "python3",
      "display_name": "Python 3"
    },
    "language_info": {
      "name": "python"
    },
    "accelerator": "GPU"
  },
  "cells": [
    {
      "cell_type": "markdown",
      "metadata": {
        "id": "view-in-github",
        "colab_type": "text"
      },
      "source": [
        "<a href=\"https://colab.research.google.com/github/zahra-niazi/dmcontrol-generalization-benchmark/blob/svea/dmcgb.ipynb\" target=\"_parent\"><img src=\"https://colab.research.google.com/assets/colab-badge.svg\" alt=\"Open In Colab\"/></a>"
      ]
    },
    {
      "cell_type": "code",
      "source": [
        "!wget https://www.roboti.us/download/mujoco200_linux.zip\n",
        "!unzip '/content/mujoco200_linux.zip' -d '/root/.mujoco'\n",
        "!wget -P /root/.mujoco https://www.roboti.us/file/mjkey.txt\n",
        "%env MJLIB_PATH=/root/.mujoco/mujoco200_linux/bin/libmujoco200.so\n",
        "%env MJKEY_PATH=/content/.mujoco/mjkey.txt"
      ],
      "metadata": {
        "id": "SEUuq8cH5y7O"
      },
      "execution_count": null,
      "outputs": []
    },
    {
      "cell_type": "code",
      "source": [
        "!git clone https://github.com/zahra-niazi/dmcontrol-generalization-benchmark.git"
      ],
      "metadata": {
        "id": "4n5IQARP0SdN"
      },
      "execution_count": null,
      "outputs": []
    },
    {
      "cell_type": "code",
      "source": [
        "%%bash\n",
        "cd dmcontrol-generalization-benchmark\n",
        "mv * ../\n",
        "mv .mujoco ../\n",
        "mv .git ../"
      ],
      "metadata": {
        "id": "DUlLIzpJvtHM"
      },
      "execution_count": null,
      "outputs": []
    },
    {
      "cell_type": "code",
      "source": [
        "!sudo pip install numpy\n",
        "!sudo pip install torch\n",
        "!sudo pip install torchvision\n",
        "!sudo pip install pillow\n",
        "!sudo pip install termcolor\n",
        "!sudo pip install imageio\n",
        "!sudo pip install imageio-ffmpeg\n",
        "!sudo pip install opencv-python\n",
        "!sudo pip install xmltodict\n",
        "!sudo pip install tqdm\n",
        "!sudo pip install einops\n",
        "!sudo pip install kornia"
      ],
      "metadata": {
        "id": "qtFKOkjnaLGr"
      },
      "execution_count": null,
      "outputs": []
    },
    {
      "cell_type": "code",
      "source": [
        "%%bash\n",
        "cd src/env/dm_control\n",
        "pip install -e . -vvv"
      ],
      "metadata": {
        "id": "BNlJkwcC0lN7"
      },
      "execution_count": null,
      "outputs": []
    },
    {
      "cell_type": "code",
      "source": [
        "%%bash\n",
        "cd src/env/dmc2gym\n",
        "pip install -e . -vvv"
      ],
      "metadata": {
        "id": "v8zGi0OT0lN5"
      },
      "execution_count": null,
      "outputs": []
    },
    {
      "cell_type": "code",
      "source": [
        "# Configure dm_control to use the EGL rendering backend (requires GPU)\n",
        "%env MUJOCO_GL=egl"
      ],
      "metadata": {
        "id": "3l6aVS53Zak2"
      },
      "execution_count": null,
      "outputs": []
    },
    {
      "cell_type": "code",
      "execution_count": null,
      "metadata": {
        "colab": {
          "base_uri": "https://localhost:8080/"
        },
        "outputId": "9bf78f2f-93d9-4bcf-ce83-171d4157505c",
        "id": "Wen_oD7gvd3O"
      },
      "outputs": [
        {
          "output_type": "stream",
          "name": "stdout",
          "text": [
            "Working directory: logs/walker_walk/svea/1\n",
            "Observations: (9, 84, 84)\n",
            "Cropped observations: (9, 84, 84)\n",
            "Evaluating: logs/walker_walk/svea/1\n",
            "/usr/local/lib/python3.10/dist-packages/pkg_resources/__init__.py:121: DeprecationWarning: pkg_resources is deprecated as an API\n",
            "  warnings.warn(\"pkg_resources is deprecated as an API\", DeprecationWarning)\n",
            "/usr/local/lib/python3.10/dist-packages/pkg_resources/__init__.py:2870: DeprecationWarning: Deprecated call to `pkg_resources.declare_namespace('google')`.\n",
            "Implementing implicit namespace packages (as specified in PEP 420) is preferred to `pkg_resources.declare_namespace`. See https://setuptools.pypa.io/en/latest/references/keywords.html#keyword-namespace-packages\n",
            "  declare_namespace(pkg)\n",
            "/usr/local/lib/python3.10/dist-packages/pkg_resources/__init__.py:2870: DeprecationWarning: Deprecated call to `pkg_resources.declare_namespace('google.cloud')`.\n",
            "Implementing implicit namespace packages (as specified in PEP 420) is preferred to `pkg_resources.declare_namespace`. See https://setuptools.pypa.io/en/latest/references/keywords.html#keyword-namespace-packages\n",
            "  declare_namespace(pkg)\n",
            "/usr/local/lib/python3.10/dist-packages/pkg_resources/__init__.py:2870: DeprecationWarning: Deprecated call to `pkg_resources.declare_namespace('google.logging')`.\n",
            "Implementing implicit namespace packages (as specified in PEP 420) is preferred to `pkg_resources.declare_namespace`. See https://setuptools.pypa.io/en/latest/references/keywords.html#keyword-namespace-packages\n",
            "  declare_namespace(pkg)\n",
            "/usr/local/lib/python3.10/dist-packages/pkg_resources/__init__.py:2870: DeprecationWarning: Deprecated call to `pkg_resources.declare_namespace('google.iam')`.\n",
            "Implementing implicit namespace packages (as specified in PEP 420) is preferred to `pkg_resources.declare_namespace`. See https://setuptools.pypa.io/en/latest/references/keywords.html#keyword-namespace-packages\n",
            "  declare_namespace(pkg)\n",
            "/usr/local/lib/python3.10/dist-packages/pkg_resources/__init__.py:2870: DeprecationWarning: Deprecated call to `pkg_resources.declare_namespace('mpl_toolkits')`.\n",
            "Implementing implicit namespace packages (as specified in PEP 420) is preferred to `pkg_resources.declare_namespace`. See https://setuptools.pypa.io/en/latest/references/keywords.html#keyword-namespace-packages\n",
            "  declare_namespace(pkg)\n",
            "/usr/local/lib/python3.10/dist-packages/pkg_resources/__init__.py:2870: DeprecationWarning: Deprecated call to `pkg_resources.declare_namespace('sphinxcontrib')`.\n",
            "Implementing implicit namespace packages (as specified in PEP 420) is preferred to `pkg_resources.declare_namespace`. See https://setuptools.pypa.io/en/latest/references/keywords.html#keyword-namespace-packages\n",
            "  declare_namespace(pkg)\n",
            "| \u001b[32meval\u001b[0m | S: 0 | ER: 1.6943 | ERTEST: 1.6794\n",
            "| \u001b[33mtrain\u001b[0m | E: 1 | S: 3 | D: 27.6 s | R: 0.0000 | ALOSS: 0.0000 | CLOSS: 0.0000 | AUXLOSS: 0.0000\n",
            "| \u001b[33mtrain\u001b[0m | E: 2 | S: 6 | D: 0.2 s | R: 1.9912 | ALOSS: 0.0000 | CLOSS: 0.0000 | AUXLOSS: 0.0000\n",
            "| \u001b[33mtrain\u001b[0m | E: 3 | S: 9 | D: 0.2 s | R: 1.4915 | ALOSS: 0.0000 | CLOSS: 0.0000 | AUXLOSS: 0.0000\n",
            "| \u001b[33mtrain\u001b[0m | E: 4 | S: 12 | D: 2.1 s | R: 1.3661 | ALOSS: 1.8969 | CLOSS: 1.4887 | AUXLOSS: 0.0000\n",
            "| \u001b[33mtrain\u001b[0m | E: 5 | S: 15 | D: 0.4 s | R: 1.9142 | ALOSS: 1.7565 | CLOSS: 0.1904 | AUXLOSS: 0.0000\n",
            "| \u001b[33mtrain\u001b[0m | E: 6 | S: 18 | D: 0.4 s | R: 1.8736 | ALOSS: 1.7628 | CLOSS: 0.1252 | AUXLOSS: 0.0000\n",
            "| \u001b[33mtrain\u001b[0m | E: 7 | S: 21 | D: 0.4 s | R: 1.8112 | ALOSS: 1.7414 | CLOSS: 0.1179 | AUXLOSS: 0.0000\n",
            "| \u001b[33mtrain\u001b[0m | E: 8 | S: 24 | D: 0.4 s | R: 1.7757 | ALOSS: 1.6810 | CLOSS: 0.1770 | AUXLOSS: 0.0000\n",
            "| \u001b[33mtrain\u001b[0m | E: 9 | S: 27 | D: 0.4 s | R: 1.7909 | ALOSS: 1.5837 | CLOSS: 0.1793 | AUXLOSS: 0.0000\n",
            "| \u001b[33mtrain\u001b[0m | E: 10 | S: 30 | D: 0.4 s | R: 1.6400 | ALOSS: 1.5035 | CLOSS: 0.1975 | AUXLOSS: 0.0000\n",
            "Completed training for logs/walker_walk/svea/1\n"
          ]
        }
      ],
      "source": [
        "!python src/train.py --algorithm svea --seed 1 --hidden_dim 32  --num_shared_layers 3 --episode_length 10 --eval_mode color_easy --projection_dim 10 --save_video --train_steps 30 --init_steps 10"
      ]
    },
    {
      "cell_type": "code",
      "source": [
        "!python src/train.py --algorithm svea --seed 2 --save_video --episode_length 300 --eval_mode color_easy --train_steps 2000 --init_steps 100 --hidden_dim 128  --num_shared_layers 5 --num_filters 16 --projection_dim 50 --save_freq 1000 --eval_freq 100"
      ],
      "metadata": {
        "colab": {
          "base_uri": "https://localhost:8080/"
        },
        "id": "lT3VSjz0qnIA",
        "outputId": "389eedad-f31d-4070-b0be-1ab64433262b"
      },
      "execution_count": null,
      "outputs": [
        {
          "output_type": "stream",
          "name": "stdout",
          "text": [
            "Working directory: logs/walker_walk/svea/2\n",
            "Observations: (9, 84, 84)\n",
            "Cropped observations: (9, 84, 84)\n",
            "Evaluating: logs/walker_walk/svea/2\n",
            "/usr/local/lib/python3.10/dist-packages/pkg_resources/__init__.py:121: DeprecationWarning: pkg_resources is deprecated as an API\n",
            "  warnings.warn(\"pkg_resources is deprecated as an API\", DeprecationWarning)\n",
            "/usr/local/lib/python3.10/dist-packages/pkg_resources/__init__.py:2870: DeprecationWarning: Deprecated call to `pkg_resources.declare_namespace('google')`.\n",
            "Implementing implicit namespace packages (as specified in PEP 420) is preferred to `pkg_resources.declare_namespace`. See https://setuptools.pypa.io/en/latest/references/keywords.html#keyword-namespace-packages\n",
            "  declare_namespace(pkg)\n",
            "/usr/local/lib/python3.10/dist-packages/pkg_resources/__init__.py:2870: DeprecationWarning: Deprecated call to `pkg_resources.declare_namespace('google.cloud')`.\n",
            "Implementing implicit namespace packages (as specified in PEP 420) is preferred to `pkg_resources.declare_namespace`. See https://setuptools.pypa.io/en/latest/references/keywords.html#keyword-namespace-packages\n",
            "  declare_namespace(pkg)\n",
            "/usr/local/lib/python3.10/dist-packages/pkg_resources/__init__.py:2870: DeprecationWarning: Deprecated call to `pkg_resources.declare_namespace('google.logging')`.\n",
            "Implementing implicit namespace packages (as specified in PEP 420) is preferred to `pkg_resources.declare_namespace`. See https://setuptools.pypa.io/en/latest/references/keywords.html#keyword-namespace-packages\n",
            "  declare_namespace(pkg)\n",
            "/usr/local/lib/python3.10/dist-packages/pkg_resources/__init__.py:2870: DeprecationWarning: Deprecated call to `pkg_resources.declare_namespace('google.iam')`.\n",
            "Implementing implicit namespace packages (as specified in PEP 420) is preferred to `pkg_resources.declare_namespace`. See https://setuptools.pypa.io/en/latest/references/keywords.html#keyword-namespace-packages\n",
            "  declare_namespace(pkg)\n",
            "/usr/local/lib/python3.10/dist-packages/pkg_resources/__init__.py:2870: DeprecationWarning: Deprecated call to `pkg_resources.declare_namespace('mpl_toolkits')`.\n",
            "Implementing implicit namespace packages (as specified in PEP 420) is preferred to `pkg_resources.declare_namespace`. See https://setuptools.pypa.io/en/latest/references/keywords.html#keyword-namespace-packages\n",
            "  declare_namespace(pkg)\n",
            "/usr/local/lib/python3.10/dist-packages/pkg_resources/__init__.py:2870: DeprecationWarning: Deprecated call to `pkg_resources.declare_namespace('sphinxcontrib')`.\n",
            "Implementing implicit namespace packages (as specified in PEP 420) is preferred to `pkg_resources.declare_namespace`. See https://setuptools.pypa.io/en/latest/references/keywords.html#keyword-namespace-packages\n",
            "  declare_namespace(pkg)\n",
            "| \u001b[32meval\u001b[0m | S: 0 | ER: 7.7979 | ERTEST: 8.4489\n",
            "| \u001b[33mtrain\u001b[0m | E: 1 | S: 75 | D: 174.3 s | R: 0.0000 | ALOSS: 0.0000 | CLOSS: 0.0000 | AUXLOSS: 0.0000\n",
            "| \u001b[33mtrain\u001b[0m | E: 2 | S: 150 | D: 20.6 s | R: 10.9642 | ALOSS: -1.3712 | CLOSS: 0.1192 | AUXLOSS: 0.0000\n",
            "| \u001b[33mtrain\u001b[0m | E: 3 | S: 225 | D: 10.6 s | R: 9.4859 | ALOSS: -2.0792 | CLOSS: 0.0943 | AUXLOSS: 0.0000\n",
            "| \u001b[33mtrain\u001b[0m | E: 4 | S: 300 | D: 10.4 s | R: 23.6419 | ALOSS: -2.3241 | CLOSS: 0.1587 | AUXLOSS: 0.0000\n",
            "Evaluating: logs/walker_walk/svea/2\n",
            "| \u001b[32meval\u001b[0m | S: 300 | ER: 10.4473 | ERTEST: 9.6830\n",
            "| \u001b[33mtrain\u001b[0m | E: 5 | S: 375 | D: 181.7 s | R: 20.6481 | ALOSS: -2.4513 | CLOSS: 0.1533 | AUXLOSS: 0.0000\n",
            "| \u001b[33mtrain\u001b[0m | E: 6 | S: 450 | D: 10.8 s | R: 10.1373 | ALOSS: -2.5502 | CLOSS: 0.2144 | AUXLOSS: 0.0000\n",
            "| \u001b[33mtrain\u001b[0m | E: 7 | S: 525 | D: 10.9 s | R: 29.7279 | ALOSS: -2.7494 | CLOSS: 0.3436 | AUXLOSS: 0.0000\n",
            "| \u001b[33mtrain\u001b[0m | E: 8 | S: 600 | D: 10.9 s | R: 29.6155 | ALOSS: -2.8551 | CLOSS: 0.3495 | AUXLOSS: 0.0000\n",
            "Evaluating: logs/walker_walk/svea/2\n",
            "| \u001b[32meval\u001b[0m | S: 600 | ER: 9.8529 | ERTEST: 10.7910\n",
            "| \u001b[33mtrain\u001b[0m | E: 9 | S: 675 | D: 182.4 s | R: 27.8000 | ALOSS: -2.9926 | CLOSS: 0.3817 | AUXLOSS: 0.0000\n",
            "| \u001b[33mtrain\u001b[0m | E: 10 | S: 750 | D: 10.8 s | R: 8.6539 | ALOSS: -3.0811 | CLOSS: 0.3782 | AUXLOSS: 0.0000\n",
            "| \u001b[33mtrain\u001b[0m | E: 11 | S: 825 | D: 10.8 s | R: 11.7633 | ALOSS: -3.2187 | CLOSS: 0.3913 | AUXLOSS: 0.0000\n",
            "| \u001b[33mtrain\u001b[0m | E: 12 | S: 900 | D: 10.6 s | R: 11.7160 | ALOSS: -3.3532 | CLOSS: 0.4043 | AUXLOSS: 0.0000\n",
            "Evaluating: logs/walker_walk/svea/2\n",
            "| \u001b[32meval\u001b[0m | S: 900 | ER: 10.3143 | ERTEST: 9.7471\n",
            "| \u001b[33mtrain\u001b[0m | E: 13 | S: 975 | D: 179.9 s | R: 12.9245 | ALOSS: -3.4713 | CLOSS: 0.3329 | AUXLOSS: 0.0000\n",
            "| \u001b[33mtrain\u001b[0m | E: 14 | S: 1050 | D: 10.8 s | R: 12.6994 | ALOSS: -3.5798 | CLOSS: 0.3721 | AUXLOSS: 0.0000\n",
            "| \u001b[33mtrain\u001b[0m | E: 15 | S: 1125 | D: 10.8 s | R: 13.7118 | ALOSS: -3.7459 | CLOSS: 0.3851 | AUXLOSS: 0.0000\n",
            "| \u001b[33mtrain\u001b[0m | E: 16 | S: 1200 | D: 10.9 s | R: 16.6789 | ALOSS: -3.8838 | CLOSS: 0.4133 | AUXLOSS: 0.0000\n",
            "Evaluating: logs/walker_walk/svea/2\n",
            "| \u001b[32meval\u001b[0m | S: 1200 | ER: 12.1611 | ERTEST: 13.6231\n",
            "| \u001b[33mtrain\u001b[0m | E: 17 | S: 1275 | D: 185.8 s | R: 15.7394 | ALOSS: -4.0817 | CLOSS: 0.4363 | AUXLOSS: 0.0000\n",
            "| \u001b[33mtrain\u001b[0m | E: 18 | S: 1350 | D: 11.0 s | R: 31.5879 | ALOSS: -4.3295 | CLOSS: 0.5520 | AUXLOSS: 0.0000\n",
            "| \u001b[33mtrain\u001b[0m | E: 19 | S: 1425 | D: 10.9 s | R: 20.4121 | ALOSS: -4.4546 | CLOSS: 0.5778 | AUXLOSS: 0.0000\n",
            "| \u001b[33mtrain\u001b[0m | E: 20 | S: 1500 | D: 10.8 s | R: 11.7781 | ALOSS: -4.6570 | CLOSS: 0.7791 | AUXLOSS: 0.0000\n",
            "Evaluating: logs/walker_walk/svea/2\n",
            "| \u001b[32meval\u001b[0m | S: 1500 | ER: 12.1816 | ERTEST: 12.3075\n",
            "| \u001b[33mtrain\u001b[0m | E: 21 | S: 1575 | D: 179.6 s | R: 27.0913 | ALOSS: -4.8852 | CLOSS: 0.8646 | AUXLOSS: 0.0000\n",
            "| \u001b[33mtrain\u001b[0m | E: 22 | S: 1650 | D: 10.6 s | R: 13.4674 | ALOSS: -5.1319 | CLOSS: 0.8551 | AUXLOSS: 0.0000\n",
            "| \u001b[33mtrain\u001b[0m | E: 23 | S: 1725 | D: 10.7 s | R: 40.5603 | ALOSS: -5.4733 | CLOSS: 0.8979 | AUXLOSS: 0.0000\n",
            "| \u001b[33mtrain\u001b[0m | E: 24 | S: 1800 | D: 10.8 s | R: 15.8416 | ALOSS: -5.5943 | CLOSS: 1.0478 | AUXLOSS: 0.0000\n",
            "Evaluating: logs/walker_walk/svea/2\n",
            "| \u001b[32meval\u001b[0m | S: 1800 | ER: 18.2751 | ERTEST: 15.8871\n",
            "| \u001b[33mtrain\u001b[0m | E: 25 | S: 1875 | D: 183.7 s | R: 36.6565 | ALOSS: -5.8384 | CLOSS: 1.2019 | AUXLOSS: 0.0000\n",
            "| \u001b[33mtrain\u001b[0m | E: 26 | S: 1950 | D: 10.7 s | R: 20.7749 | ALOSS: -6.0248 | CLOSS: 1.3349 | AUXLOSS: 0.0000\n",
            "Completed training for logs/walker_walk/svea/2\n"
          ]
        }
      ]
    },
    {
      "cell_type": "code",
      "source": [
        "!python src/train.py --algorithm svea --seed 5 --train_steps 400000 --save_video --hidden_dim 128  --num_shared_layers 5 --num_filters 16 --projection_dim 50"
      ],
      "metadata": {
        "colab": {
          "base_uri": "https://localhost:8080/"
        },
        "id": "63d25Ceu2Tq_",
        "outputId": "2ba96fa2-7192-4290-c2fc-858bf664f367"
      },
      "execution_count": null,
      "outputs": [
        {
          "output_type": "stream",
          "name": "stdout",
          "text": [
            "Working directory: logs/walker_walk/svea/5\n",
            "Observations: (9, 84, 84)\n",
            "Cropped observations: (9, 84, 84)\n",
            "Evaluating: logs/walker_walk/svea/5\n",
            "/usr/local/lib/python3.10/dist-packages/pkg_resources/__init__.py:121: DeprecationWarning: pkg_resources is deprecated as an API\n",
            "  warnings.warn(\"pkg_resources is deprecated as an API\", DeprecationWarning)\n",
            "/usr/local/lib/python3.10/dist-packages/pkg_resources/__init__.py:2870: DeprecationWarning: Deprecated call to `pkg_resources.declare_namespace('google')`.\n",
            "Implementing implicit namespace packages (as specified in PEP 420) is preferred to `pkg_resources.declare_namespace`. See https://setuptools.pypa.io/en/latest/references/keywords.html#keyword-namespace-packages\n",
            "  declare_namespace(pkg)\n",
            "/usr/local/lib/python3.10/dist-packages/pkg_resources/__init__.py:2870: DeprecationWarning: Deprecated call to `pkg_resources.declare_namespace('google.cloud')`.\n",
            "Implementing implicit namespace packages (as specified in PEP 420) is preferred to `pkg_resources.declare_namespace`. See https://setuptools.pypa.io/en/latest/references/keywords.html#keyword-namespace-packages\n",
            "  declare_namespace(pkg)\n",
            "/usr/local/lib/python3.10/dist-packages/pkg_resources/__init__.py:2870: DeprecationWarning: Deprecated call to `pkg_resources.declare_namespace('google.logging')`.\n",
            "Implementing implicit namespace packages (as specified in PEP 420) is preferred to `pkg_resources.declare_namespace`. See https://setuptools.pypa.io/en/latest/references/keywords.html#keyword-namespace-packages\n",
            "  declare_namespace(pkg)\n",
            "/usr/local/lib/python3.10/dist-packages/pkg_resources/__init__.py:2870: DeprecationWarning: Deprecated call to `pkg_resources.declare_namespace('google.iam')`.\n",
            "Implementing implicit namespace packages (as specified in PEP 420) is preferred to `pkg_resources.declare_namespace`. See https://setuptools.pypa.io/en/latest/references/keywords.html#keyword-namespace-packages\n",
            "  declare_namespace(pkg)\n",
            "/usr/local/lib/python3.10/dist-packages/pkg_resources/__init__.py:2870: DeprecationWarning: Deprecated call to `pkg_resources.declare_namespace('mpl_toolkits')`.\n",
            "Implementing implicit namespace packages (as specified in PEP 420) is preferred to `pkg_resources.declare_namespace`. See https://setuptools.pypa.io/en/latest/references/keywords.html#keyword-namespace-packages\n",
            "  declare_namespace(pkg)\n",
            "/usr/local/lib/python3.10/dist-packages/pkg_resources/__init__.py:2870: DeprecationWarning: Deprecated call to `pkg_resources.declare_namespace('sphinxcontrib')`.\n",
            "Implementing implicit namespace packages (as specified in PEP 420) is preferred to `pkg_resources.declare_namespace`. See https://setuptools.pypa.io/en/latest/references/keywords.html#keyword-namespace-packages\n",
            "  declare_namespace(pkg)\n",
            "| \u001b[32meval\u001b[0m | S: 0 | ER: 22.6724 | ERTEST: 21.8776\n",
            "| \u001b[33mtrain\u001b[0m | E: 1 | S: 250 | D: 509.0 s | R: 0.0000 | ALOSS: 0.0000 | CLOSS: 0.0000 | AUXLOSS: 0.0000\n",
            "| \u001b[33mtrain\u001b[0m | E: 2 | S: 500 | D: 6.9 s | R: 65.9661 | ALOSS: 0.0000 | CLOSS: 0.0000 | AUXLOSS: 0.0000\n",
            "| \u001b[33mtrain\u001b[0m | E: 3 | S: 750 | D: 8.0 s | R: 46.8077 | ALOSS: 0.0000 | CLOSS: 0.0000 | AUXLOSS: 0.0000\n",
            "| \u001b[33mtrain\u001b[0m | E: 4 | S: 1000 | D: 8.0 s | R: 47.8443 | ALOSS: 0.0000 | CLOSS: 0.0000 | AUXLOSS: 0.0000\n",
            "| \u001b[33mtrain\u001b[0m | E: 5 | S: 1250 | D: 162.3 s | R: 58.6365 | ALOSS: -3.7919 | CLOSS: 0.2781 | AUXLOSS: 0.0000\n",
            "| \u001b[33mtrain\u001b[0m | E: 6 | S: 1500 | D: 35.2 s | R: 32.2441 | ALOSS: -6.8746 | CLOSS: 0.5625 | AUXLOSS: 0.0000\n",
            "| \u001b[33mtrain\u001b[0m | E: 7 | S: 1750 | D: 35.4 s | R: 50.5269 | ALOSS: -7.3934 | CLOSS: 0.7022 | AUXLOSS: 0.0000\n",
            "| \u001b[33mtrain\u001b[0m | E: 8 | S: 2000 | D: 35.2 s | R: 82.9486 | ALOSS: -8.0025 | CLOSS: 0.9402 | AUXLOSS: 0.0000\n",
            "| \u001b[33mtrain\u001b[0m | E: 9 | S: 2250 | D: 34.6 s | R: 97.7067 | ALOSS: -8.4924 | CLOSS: 1.1645 | AUXLOSS: 0.0000\n",
            "| \u001b[33mtrain\u001b[0m | E: 10 | S: 2500 | D: 34.9 s | R: 44.5468 | ALOSS: -8.9177 | CLOSS: 1.3205 | AUXLOSS: 0.0000\n",
            "| \u001b[33mtrain\u001b[0m | E: 11 | S: 2750 | D: 35.0 s | R: 71.7845 | ALOSS: -9.5084 | CLOSS: 1.4789 | AUXLOSS: 0.0000\n",
            "| \u001b[33mtrain\u001b[0m | E: 12 | S: 3000 | D: 35.6 s | R: 63.4975 | ALOSS: -10.0544 | CLOSS: 1.7420 | AUXLOSS: 0.0000\n",
            "| \u001b[33mtrain\u001b[0m | E: 13 | S: 3250 | D: 36.2 s | R: 108.9187 | ALOSS: -10.7306 | CLOSS: 2.1529 | AUXLOSS: 0.0000\n",
            "| \u001b[33mtrain\u001b[0m | E: 14 | S: 3500 | D: 35.4 s | R: 111.4116 | ALOSS: -11.4684 | CLOSS: 2.6572 | AUXLOSS: 0.0000\n",
            "| \u001b[33mtrain\u001b[0m | E: 15 | S: 3750 | D: 35.2 s | R: 78.8386 | ALOSS: -11.9503 | CLOSS: 2.7735 | AUXLOSS: 0.0000\n",
            "| \u001b[33mtrain\u001b[0m | E: 16 | S: 4000 | D: 35.5 s | R: 65.8759 | ALOSS: -12.4941 | CLOSS: 2.8765 | AUXLOSS: 0.0000\n",
            "| \u001b[33mtrain\u001b[0m | E: 17 | S: 4250 | D: 35.6 s | R: 38.5235 | ALOSS: -13.0714 | CLOSS: 2.8647 | AUXLOSS: 0.0000\n",
            "| \u001b[33mtrain\u001b[0m | E: 18 | S: 4500 | D: 34.7 s | R: 34.3794 | ALOSS: -13.7228 | CLOSS: 3.0358 | AUXLOSS: 0.0000\n",
            "| \u001b[33mtrain\u001b[0m | E: 19 | S: 4750 | D: 35.2 s | R: 44.6790 | ALOSS: -14.2674 | CLOSS: 3.5486 | AUXLOSS: 0.0000\n",
            "| \u001b[33mtrain\u001b[0m | E: 20 | S: 5000 | D: 35.3 s | R: 90.7129 | ALOSS: -14.8831 | CLOSS: 3.5163 | AUXLOSS: 0.0000\n",
            "| \u001b[33mtrain\u001b[0m | E: 21 | S: 5250 | D: 35.3 s | R: 104.8931 | ALOSS: -15.5804 | CLOSS: 3.8050 | AUXLOSS: 0.0000\n",
            "| \u001b[33mtrain\u001b[0m | E: 22 | S: 5500 | D: 35.5 s | R: 194.3595 | ALOSS: -16.2710 | CLOSS: 3.7745 | AUXLOSS: 0.0000\n",
            "| \u001b[33mtrain\u001b[0m | E: 23 | S: 5750 | D: 35.5 s | R: 88.5204 | ALOSS: -16.7793 | CLOSS: 3.8286 | AUXLOSS: 0.0000\n",
            "| \u001b[33mtrain\u001b[0m | E: 24 | S: 6000 | D: 35.3 s | R: 70.2126 | ALOSS: -17.3284 | CLOSS: 4.4918 | AUXLOSS: 0.0000\n",
            "| \u001b[33mtrain\u001b[0m | E: 25 | S: 6250 | D: 35.9 s | R: 90.3624 | ALOSS: -18.0138 | CLOSS: 4.7096 | AUXLOSS: 0.0000\n",
            "| \u001b[33mtrain\u001b[0m | E: 26 | S: 6500 | D: 35.7 s | R: 238.3080 | ALOSS: -18.6643 | CLOSS: 5.0938 | AUXLOSS: 0.0000\n",
            "| \u001b[33mtrain\u001b[0m | E: 27 | S: 6750 | D: 35.4 s | R: 163.2402 | ALOSS: -19.1219 | CLOSS: 5.1635 | AUXLOSS: 0.0000\n",
            "| \u001b[33mtrain\u001b[0m | E: 28 | S: 7000 | D: 35.9 s | R: 105.2985 | ALOSS: -19.7988 | CLOSS: 5.4685 | AUXLOSS: 0.0000\n",
            "| \u001b[33mtrain\u001b[0m | E: 29 | S: 7250 | D: 35.5 s | R: 138.6926 | ALOSS: -20.4285 | CLOSS: 6.5894 | AUXLOSS: 0.0000\n",
            "| \u001b[33mtrain\u001b[0m | E: 30 | S: 7500 | D: 35.5 s | R: 109.4243 | ALOSS: -21.1255 | CLOSS: 6.5317 | AUXLOSS: 0.0000\n",
            "| \u001b[33mtrain\u001b[0m | E: 31 | S: 7750 | D: 35.7 s | R: 183.1097 | ALOSS: -21.7888 | CLOSS: 7.1379 | AUXLOSS: 0.0000\n",
            "| \u001b[33mtrain\u001b[0m | E: 32 | S: 8000 | D: 35.4 s | R: 200.6584 | ALOSS: -22.4140 | CLOSS: 7.0173 | AUXLOSS: 0.0000\n",
            "| \u001b[33mtrain\u001b[0m | E: 33 | S: 8250 | D: 35.2 s | R: 170.1047 | ALOSS: -22.9303 | CLOSS: 8.3075 | AUXLOSS: 0.0000\n",
            "| \u001b[33mtrain\u001b[0m | E: 34 | S: 8500 | D: 35.4 s | R: 114.6036 | ALOSS: -23.8124 | CLOSS: 9.0186 | AUXLOSS: 0.0000\n",
            "| \u001b[33mtrain\u001b[0m | E: 35 | S: 8750 | D: 35.1 s | R: 163.1442 | ALOSS: -24.5588 | CLOSS: 9.8429 | AUXLOSS: 0.0000\n",
            "| \u001b[33mtrain\u001b[0m | E: 36 | S: 9000 | D: 35.4 s | R: 157.9337 | ALOSS: -25.1416 | CLOSS: 10.5321 | AUXLOSS: 0.0000\n",
            "| \u001b[33mtrain\u001b[0m | E: 37 | S: 9250 | D: 35.0 s | R: 157.4399 | ALOSS: -25.9104 | CLOSS: 10.5111 | AUXLOSS: 0.0000\n",
            "| \u001b[33mtrain\u001b[0m | E: 38 | S: 9500 | D: 35.7 s | R: 142.6461 | ALOSS: -26.6159 | CLOSS: 11.0550 | AUXLOSS: 0.0000\n",
            "| \u001b[33mtrain\u001b[0m | E: 39 | S: 9750 | D: 35.6 s | R: 128.6751 | ALOSS: -27.5051 | CLOSS: 12.1655 | AUXLOSS: 0.0000\n",
            "| \u001b[33mtrain\u001b[0m | E: 40 | S: 10000 | D: 35.9 s | R: 199.0319 | ALOSS: -28.1587 | CLOSS: 12.1384 | AUXLOSS: 0.0000\n",
            "Evaluating: logs/walker_walk/svea/5\n",
            "| \u001b[32meval\u001b[0m | S: 10000 | ER: 193.9723 | ERTEST: 206.0949\n",
            "| \u001b[33mtrain\u001b[0m | E: 41 | S: 10250 | D: 557.7 s | R: 240.1349 | ALOSS: -28.9730 | CLOSS: 12.6443 | AUXLOSS: 0.0000\n",
            "| \u001b[33mtrain\u001b[0m | E: 42 | S: 10500 | D: 35.6 s | R: 177.9186 | ALOSS: -30.0364 | CLOSS: 12.1333 | AUXLOSS: 0.0000\n",
            "| \u001b[33mtrain\u001b[0m | E: 43 | S: 10750 | D: 35.4 s | R: 165.6888 | ALOSS: -30.8594 | CLOSS: 11.3955 | AUXLOSS: 0.0000\n",
            "| \u001b[33mtrain\u001b[0m | E: 44 | S: 11000 | D: 35.4 s | R: 223.1858 | ALOSS: -31.8463 | CLOSS: 11.0201 | AUXLOSS: 0.0000\n",
            "| \u001b[33mtrain\u001b[0m | E: 45 | S: 11250 | D: 35.3 s | R: 179.3208 | ALOSS: -32.5464 | CLOSS: 11.0565 | AUXLOSS: 0.0000\n",
            "| \u001b[33mtrain\u001b[0m | E: 46 | S: 11500 | D: 35.2 s | R: 131.6658 | ALOSS: -33.2606 | CLOSS: 10.3612 | AUXLOSS: 0.0000\n",
            "| \u001b[33mtrain\u001b[0m | E: 47 | S: 11750 | D: 35.5 s | R: 223.4588 | ALOSS: -33.9522 | CLOSS: 9.6783 | AUXLOSS: 0.0000\n",
            "| \u001b[33mtrain\u001b[0m | E: 48 | S: 12000 | D: 35.4 s | R: 222.0744 | ALOSS: -34.6325 | CLOSS: 9.1156 | AUXLOSS: 0.0000\n",
            "| \u001b[33mtrain\u001b[0m | E: 49 | S: 12250 | D: 35.4 s | R: 199.9429 | ALOSS: -35.2059 | CLOSS: 9.1851 | AUXLOSS: 0.0000\n",
            "| \u001b[33mtrain\u001b[0m | E: 50 | S: 12500 | D: 35.4 s | R: 182.0923 | ALOSS: -35.8828 | CLOSS: 8.7998 | AUXLOSS: 0.0000\n",
            "| \u001b[33mtrain\u001b[0m | E: 51 | S: 12750 | D: 35.4 s | R: 188.7594 | ALOSS: -36.4006 | CLOSS: 8.6160 | AUXLOSS: 0.0000\n",
            "| \u001b[33mtrain\u001b[0m | E: 52 | S: 13000 | D: 35.3 s | R: 158.2408 | ALOSS: -36.9516 | CLOSS: 8.0412 | AUXLOSS: 0.0000\n",
            "| \u001b[33mtrain\u001b[0m | E: 53 | S: 13250 | D: 35.4 s | R: 214.5569 | ALOSS: -37.7344 | CLOSS: 7.9210 | AUXLOSS: 0.0000\n",
            "| \u001b[33mtrain\u001b[0m | E: 54 | S: 13500 | D: 35.1 s | R: 273.8826 | ALOSS: -38.3587 | CLOSS: 7.8628 | AUXLOSS: 0.0000\n",
            "| \u001b[33mtrain\u001b[0m | E: 55 | S: 13750 | D: 35.0 s | R: 222.9442 | ALOSS: -38.8480 | CLOSS: 7.5152 | AUXLOSS: 0.0000\n",
            "| \u001b[33mtrain\u001b[0m | E: 56 | S: 14000 | D: 35.4 s | R: 321.7631 | ALOSS: -39.6261 | CLOSS: 7.6242 | AUXLOSS: 0.0000\n",
            "| \u001b[33mtrain\u001b[0m | E: 57 | S: 14250 | D: 35.3 s | R: 237.6456 | ALOSS: -40.2455 | CLOSS: 7.6355 | AUXLOSS: 0.0000\n",
            "| \u001b[33mtrain\u001b[0m | E: 58 | S: 14500 | D: 35.1 s | R: 211.6795 | ALOSS: -41.0549 | CLOSS: 7.5489 | AUXLOSS: 0.0000\n",
            "| \u001b[33mtrain\u001b[0m | E: 59 | S: 14750 | D: 35.3 s | R: 277.8027 | ALOSS: -41.7566 | CLOSS: 7.6951 | AUXLOSS: 0.0000\n",
            "| \u001b[33mtrain\u001b[0m | E: 60 | S: 15000 | D: 35.4 s | R: 223.9034 | ALOSS: -42.5138 | CLOSS: 7.3418 | AUXLOSS: 0.0000\n",
            "| \u001b[33mtrain\u001b[0m | E: 61 | S: 15250 | D: 35.5 s | R: 276.2080 | ALOSS: -43.2817 | CLOSS: 7.2130 | AUXLOSS: 0.0000\n",
            "| \u001b[33mtrain\u001b[0m | E: 62 | S: 15500 | D: 35.7 s | R: 338.7534 | ALOSS: -43.9777 | CLOSS: 6.9807 | AUXLOSS: 0.0000\n",
            "| \u001b[33mtrain\u001b[0m | E: 63 | S: 15750 | D: 35.5 s | R: 265.3375 | ALOSS: -44.6745 | CLOSS: 6.7662 | AUXLOSS: 0.0000\n",
            "| \u001b[33mtrain\u001b[0m | E: 64 | S: 16000 | D: 35.3 s | R: 270.0521 | ALOSS: -45.3410 | CLOSS: 6.8089 | AUXLOSS: 0.0000\n",
            "| \u001b[33mtrain\u001b[0m | E: 65 | S: 16250 | D: 35.4 s | R: 282.4116 | ALOSS: -46.0592 | CLOSS: 6.7568 | AUXLOSS: 0.0000\n",
            "| \u001b[33mtrain\u001b[0m | E: 66 | S: 16500 | D: 35.5 s | R: 310.3375 | ALOSS: -46.7228 | CLOSS: 6.8672 | AUXLOSS: 0.0000\n",
            "| \u001b[33mtrain\u001b[0m | E: 67 | S: 16750 | D: 35.6 s | R: 271.0477 | ALOSS: -47.4907 | CLOSS: 6.6459 | AUXLOSS: 0.0000\n",
            "| \u001b[33mtrain\u001b[0m | E: 68 | S: 17000 | D: 35.6 s | R: 227.9657 | ALOSS: -48.0873 | CLOSS: 6.5946 | AUXLOSS: 0.0000\n",
            "| \u001b[33mtrain\u001b[0m | E: 69 | S: 17250 | D: 35.8 s | R: 290.2979 | ALOSS: -48.7312 | CLOSS: 6.3670 | AUXLOSS: 0.0000\n",
            "| \u001b[33mtrain\u001b[0m | E: 70 | S: 17500 | D: 35.7 s | R: 253.7046 | ALOSS: -49.4000 | CLOSS: 6.0781 | AUXLOSS: 0.0000\n",
            "| \u001b[33mtrain\u001b[0m | E: 71 | S: 17750 | D: 36.1 s | R: 295.0050 | ALOSS: -50.1702 | CLOSS: 6.5994 | AUXLOSS: 0.0000\n",
            "| \u001b[33mtrain\u001b[0m | E: 72 | S: 18000 | D: 35.9 s | R: 336.6720 | ALOSS: -50.8370 | CLOSS: 6.6924 | AUXLOSS: 0.0000\n",
            "| \u001b[33mtrain\u001b[0m | E: 73 | S: 18250 | D: 36.1 s | R: 370.1616 | ALOSS: -51.6434 | CLOSS: 6.7646 | AUXLOSS: 0.0000\n",
            "| \u001b[33mtrain\u001b[0m | E: 74 | S: 18500 | D: 35.9 s | R: 393.8596 | ALOSS: -52.3574 | CLOSS: 6.9854 | AUXLOSS: 0.0000\n",
            "| \u001b[33mtrain\u001b[0m | E: 75 | S: 18750 | D: 35.5 s | R: 328.7460 | ALOSS: -53.0840 | CLOSS: 7.1745 | AUXLOSS: 0.0000\n",
            "| \u001b[33mtrain\u001b[0m | E: 76 | S: 19000 | D: 35.9 s | R: 316.6048 | ALOSS: -53.8603 | CLOSS: 7.1494 | AUXLOSS: 0.0000\n",
            "| \u001b[33mtrain\u001b[0m | E: 77 | S: 19250 | D: 35.8 s | R: 361.5265 | ALOSS: -54.5340 | CLOSS: 7.3602 | AUXLOSS: 0.0000\n",
            "| \u001b[33mtrain\u001b[0m | E: 78 | S: 19500 | D: 35.8 s | R: 266.7464 | ALOSS: -55.4155 | CLOSS: 7.2195 | AUXLOSS: 0.0000\n",
            "| \u001b[33mtrain\u001b[0m | E: 79 | S: 19750 | D: 35.7 s | R: 376.5620 | ALOSS: -55.9626 | CLOSS: 7.6842 | AUXLOSS: 0.0000\n",
            "| \u001b[33mtrain\u001b[0m | E: 80 | S: 20000 | D: 35.6 s | R: 260.4903 | ALOSS: -56.7502 | CLOSS: 8.1562 | AUXLOSS: 0.0000\n",
            "Evaluating: logs/walker_walk/svea/5\n",
            "| \u001b[32meval\u001b[0m | S: 20000 | ER: 356.9242 | ERTEST: 351.1419\n",
            "| \u001b[33mtrain\u001b[0m | E: 81 | S: 20250 | D: 539.2 s | R: 363.1366 | ALOSS: -57.5429 | CLOSS: 7.9310 | AUXLOSS: 0.0000\n",
            "| \u001b[33mtrain\u001b[0m | E: 82 | S: 20500 | D: 35.1 s | R: 320.3931 | ALOSS: -58.1849 | CLOSS: 8.1707 | AUXLOSS: 0.0000\n",
            "| \u001b[33mtrain\u001b[0m | E: 83 | S: 20750 | D: 35.0 s | R: 371.8570 | ALOSS: -59.1770 | CLOSS: 8.3043 | AUXLOSS: 0.0000\n",
            "| \u001b[33mtrain\u001b[0m | E: 84 | S: 21000 | D: 35.0 s | R: 374.1536 | ALOSS: -59.8649 | CLOSS: 9.1418 | AUXLOSS: 0.0000\n",
            "| \u001b[33mtrain\u001b[0m | E: 85 | S: 21250 | D: 34.8 s | R: 275.6046 | ALOSS: -60.6636 | CLOSS: 9.2927 | AUXLOSS: 0.0000\n",
            "| \u001b[33mtrain\u001b[0m | E: 86 | S: 21500 | D: 34.6 s | R: 364.0768 | ALOSS: -61.3853 | CLOSS: 8.9715 | AUXLOSS: 0.0000\n",
            "| \u001b[33mtrain\u001b[0m | E: 87 | S: 21750 | D: 34.5 s | R: 296.7278 | ALOSS: -62.1810 | CLOSS: 9.0733 | AUXLOSS: 0.0000\n",
            "| \u001b[33mtrain\u001b[0m | E: 88 | S: 22000 | D: 34.6 s | R: 372.1733 | ALOSS: -63.1204 | CLOSS: 9.0626 | AUXLOSS: 0.0000\n",
            "| \u001b[33mtrain\u001b[0m | E: 89 | S: 22250 | D: 34.7 s | R: 387.3281 | ALOSS: -63.7812 | CLOSS: 9.2177 | AUXLOSS: 0.0000\n",
            "| \u001b[33mtrain\u001b[0m | E: 90 | S: 22500 | D: 34.7 s | R: 313.0234 | ALOSS: -64.4513 | CLOSS: 9.6155 | AUXLOSS: 0.0000\n",
            "| \u001b[33mtrain\u001b[0m | E: 91 | S: 22750 | D: 34.9 s | R: 378.9037 | ALOSS: -65.2806 | CLOSS: 9.3705 | AUXLOSS: 0.0000\n",
            "| \u001b[33mtrain\u001b[0m | E: 92 | S: 23000 | D: 35.0 s | R: 310.4591 | ALOSS: -66.1035 | CLOSS: 9.5632 | AUXLOSS: 0.0000\n",
            "| \u001b[33mtrain\u001b[0m | E: 93 | S: 23250 | D: 35.5 s | R: 380.0656 | ALOSS: -66.9278 | CLOSS: 9.5573 | AUXLOSS: 0.0000\n",
            "| \u001b[33mtrain\u001b[0m | E: 94 | S: 23500 | D: 35.4 s | R: 463.2718 | ALOSS: -67.7837 | CLOSS: 10.3075 | AUXLOSS: 0.0000\n",
            "| \u001b[33mtrain\u001b[0m | E: 95 | S: 23750 | D: 34.9 s | R: 386.1298 | ALOSS: -68.6096 | CLOSS: 10.5316 | AUXLOSS: 0.0000\n",
            "| \u001b[33mtrain\u001b[0m | E: 96 | S: 24000 | D: 35.5 s | R: 334.7130 | ALOSS: -69.4153 | CLOSS: 10.0193 | AUXLOSS: 0.0000\n",
            "| \u001b[33mtrain\u001b[0m | E: 97 | S: 24250 | D: 35.4 s | R: 459.1074 | ALOSS: -70.2546 | CLOSS: 10.2799 | AUXLOSS: 0.0000\n",
            "| \u001b[33mtrain\u001b[0m | E: 98 | S: 24500 | D: 35.5 s | R: 393.9273 | ALOSS: -71.1295 | CLOSS: 10.3349 | AUXLOSS: 0.0000\n",
            "| \u001b[33mtrain\u001b[0m | E: 99 | S: 24750 | D: 35.7 s | R: 452.8420 | ALOSS: -71.8409 | CLOSS: 10.2140 | AUXLOSS: 0.0000\n",
            "| \u001b[33mtrain\u001b[0m | E: 100 | S: 25000 | D: 35.8 s | R: 448.7642 | ALOSS: -72.7994 | CLOSS: 10.6613 | AUXLOSS: 0.0000\n",
            "| \u001b[33mtrain\u001b[0m | E: 101 | S: 25250 | D: 35.9 s | R: 481.1124 | ALOSS: -73.8061 | CLOSS: 10.4927 | AUXLOSS: 0.0000\n",
            "| \u001b[33mtrain\u001b[0m | E: 102 | S: 25500 | D: 35.7 s | R: 431.5508 | ALOSS: -74.7657 | CLOSS: 10.4428 | AUXLOSS: 0.0000\n",
            "| \u001b[33mtrain\u001b[0m | E: 103 | S: 25750 | D: 35.6 s | R: 460.9534 | ALOSS: -75.5587 | CLOSS: 10.7756 | AUXLOSS: 0.0000\n",
            "| \u001b[33mtrain\u001b[0m | E: 104 | S: 26000 | D: 35.3 s | R: 434.5297 | ALOSS: -76.4177 | CLOSS: 10.7317 | AUXLOSS: 0.0000\n",
            "| \u001b[33mtrain\u001b[0m | E: 105 | S: 26250 | D: 35.2 s | R: 412.6770 | ALOSS: -77.3264 | CLOSS: 10.9896 | AUXLOSS: 0.0000\n",
            "| \u001b[33mtrain\u001b[0m | E: 106 | S: 26500 | D: 35.3 s | R: 451.8882 | ALOSS: -78.3554 | CLOSS: 10.7056 | AUXLOSS: 0.0000\n",
            "| \u001b[33mtrain\u001b[0m | E: 107 | S: 26750 | D: 35.7 s | R: 439.3827 | ALOSS: -79.1993 | CLOSS: 10.7219 | AUXLOSS: 0.0000\n",
            "| \u001b[33mtrain\u001b[0m | E: 108 | S: 27000 | D: 35.8 s | R: 468.3066 | ALOSS: -80.0826 | CLOSS: 11.0683 | AUXLOSS: 0.0000\n",
            "| \u001b[33mtrain\u001b[0m | E: 109 | S: 27250 | D: 35.5 s | R: 468.4052 | ALOSS: -80.9657 | CLOSS: 10.6311 | AUXLOSS: 0.0000\n",
            "| \u001b[33mtrain\u001b[0m | E: 110 | S: 27500 | D: 35.7 s | R: 447.1446 | ALOSS: -81.8185 | CLOSS: 10.3758 | AUXLOSS: 0.0000\n",
            "| \u001b[33mtrain\u001b[0m | E: 111 | S: 27750 | D: 35.3 s | R: 450.9764 | ALOSS: -82.8047 | CLOSS: 10.2868 | AUXLOSS: 0.0000\n",
            "| \u001b[33mtrain\u001b[0m | E: 112 | S: 28000 | D: 35.1 s | R: 393.4106 | ALOSS: -83.6923 | CLOSS: 10.1515 | AUXLOSS: 0.0000\n",
            "| \u001b[33mtrain\u001b[0m | E: 113 | S: 28250 | D: 35.2 s | R: 409.3343 | ALOSS: -84.5221 | CLOSS: 10.0722 | AUXLOSS: 0.0000\n",
            "| \u001b[33mtrain\u001b[0m | E: 114 | S: 28500 | D: 34.9 s | R: 392.5981 | ALOSS: -85.3797 | CLOSS: 9.9074 | AUXLOSS: 0.0000\n",
            "| \u001b[33mtrain\u001b[0m | E: 115 | S: 28750 | D: 35.1 s | R: 483.9254 | ALOSS: -86.3390 | CLOSS: 10.0786 | AUXLOSS: 0.0000\n",
            "| \u001b[33mtrain\u001b[0m | E: 116 | S: 29000 | D: 35.1 s | R: 432.6992 | ALOSS: -87.0944 | CLOSS: 10.1312 | AUXLOSS: 0.0000\n",
            "| \u001b[33mtrain\u001b[0m | E: 117 | S: 29250 | D: 35.2 s | R: 464.8746 | ALOSS: -87.9838 | CLOSS: 9.8154 | AUXLOSS: 0.0000\n",
            "| \u001b[33mtrain\u001b[0m | E: 118 | S: 29500 | D: 35.0 s | R: 412.8097 | ALOSS: -88.8757 | CLOSS: 10.1284 | AUXLOSS: 0.0000\n",
            "| \u001b[33mtrain\u001b[0m | E: 119 | S: 29750 | D: 35.1 s | R: 347.1109 | ALOSS: -89.6914 | CLOSS: 10.2180 | AUXLOSS: 0.0000\n",
            "| \u001b[33mtrain\u001b[0m | E: 120 | S: 30000 | D: 34.9 s | R: 390.1163 | ALOSS: -90.4562 | CLOSS: 10.1817 | AUXLOSS: 0.0000\n",
            "Evaluating: logs/walker_walk/svea/5\n",
            "| \u001b[32meval\u001b[0m | S: 30000 | ER: 457.5705 | ERTEST: 451.0713\n",
            "| \u001b[33mtrain\u001b[0m | E: 121 | S: 30250 | D: 530.5 s | R: 446.9760 | ALOSS: -91.2499 | CLOSS: 10.1751 | AUXLOSS: 0.0000\n",
            "| \u001b[33mtrain\u001b[0m | E: 122 | S: 30500 | D: 34.9 s | R: 440.5626 | ALOSS: -91.9858 | CLOSS: 10.0612 | AUXLOSS: 0.0000\n",
            "| \u001b[33mtrain\u001b[0m | E: 123 | S: 30750 | D: 35.1 s | R: 420.5367 | ALOSS: -92.6685 | CLOSS: 9.8440 | AUXLOSS: 0.0000\n",
            "| \u001b[33mtrain\u001b[0m | E: 124 | S: 31000 | D: 34.8 s | R: 451.3615 | ALOSS: -93.4712 | CLOSS: 9.8265 | AUXLOSS: 0.0000\n",
            "| \u001b[33mtrain\u001b[0m | E: 125 | S: 31250 | D: 35.1 s | R: 462.6475 | ALOSS: -94.2378 | CLOSS: 9.5380 | AUXLOSS: 0.0000\n",
            "| \u001b[33mtrain\u001b[0m | E: 126 | S: 31500 | D: 35.0 s | R: 413.2493 | ALOSS: -95.0364 | CLOSS: 9.9680 | AUXLOSS: 0.0000\n",
            "| \u001b[33mtrain\u001b[0m | E: 127 | S: 31750 | D: 34.6 s | R: 442.6668 | ALOSS: -95.8192 | CLOSS: 9.7659 | AUXLOSS: 0.0000\n",
            "| \u001b[33mtrain\u001b[0m | E: 128 | S: 32000 | D: 34.9 s | R: 467.3856 | ALOSS: -96.5443 | CLOSS: 9.8652 | AUXLOSS: 0.0000\n",
            "| \u001b[33mtrain\u001b[0m | E: 129 | S: 32250 | D: 34.8 s | R: 437.2220 | ALOSS: -97.3391 | CLOSS: 10.2012 | AUXLOSS: 0.0000\n",
            "| \u001b[33mtrain\u001b[0m | E: 130 | S: 32500 | D: 35.0 s | R: 423.8500 | ALOSS: -98.0075 | CLOSS: 9.7444 | AUXLOSS: 0.0000\n",
            "| \u001b[33mtrain\u001b[0m | E: 131 | S: 32750 | D: 34.8 s | R: 456.8903 | ALOSS: -98.7264 | CLOSS: 9.5545 | AUXLOSS: 0.0000\n",
            "| \u001b[33mtrain\u001b[0m | E: 132 | S: 33000 | D: 34.8 s | R: 483.8639 | ALOSS: -99.4227 | CLOSS: 9.7583 | AUXLOSS: 0.0000\n",
            "| \u001b[33mtrain\u001b[0m | E: 133 | S: 33250 | D: 34.8 s | R: 437.4705 | ALOSS: -100.1777 | CLOSS: 10.0888 | AUXLOSS: 0.0000\n",
            "| \u001b[33mtrain\u001b[0m | E: 134 | S: 33500 | D: 34.5 s | R: 442.4473 | ALOSS: -100.8303 | CLOSS: 9.9385 | AUXLOSS: 0.0000\n",
            "| \u001b[33mtrain\u001b[0m | E: 135 | S: 33750 | D: 35.0 s | R: 476.2885 | ALOSS: -101.4108 | CLOSS: 9.6464 | AUXLOSS: 0.0000\n",
            "| \u001b[33mtrain\u001b[0m | E: 136 | S: 34000 | D: 34.9 s | R: 491.7517 | ALOSS: -102.2853 | CLOSS: 9.9723 | AUXLOSS: 0.0000\n",
            "| \u001b[33mtrain\u001b[0m | E: 137 | S: 34250 | D: 35.3 s | R: 530.7164 | ALOSS: -102.9074 | CLOSS: 9.7028 | AUXLOSS: 0.0000\n",
            "| \u001b[33mtrain\u001b[0m | E: 138 | S: 34500 | D: 35.2 s | R: 440.9079 | ALOSS: -103.7034 | CLOSS: 9.8517 | AUXLOSS: 0.0000\n",
            "| \u001b[33mtrain\u001b[0m | E: 139 | S: 34750 | D: 35.3 s | R: 469.7489 | ALOSS: -104.3889 | CLOSS: 10.1219 | AUXLOSS: 0.0000\n",
            "| \u001b[33mtrain\u001b[0m | E: 140 | S: 35000 | D: 35.5 s | R: 483.2348 | ALOSS: -105.1809 | CLOSS: 10.1861 | AUXLOSS: 0.0000\n",
            "| \u001b[33mtrain\u001b[0m | E: 141 | S: 35250 | D: 35.5 s | R: 528.1280 | ALOSS: -105.7542 | CLOSS: 10.3348 | AUXLOSS: 0.0000\n",
            "| \u001b[33mtrain\u001b[0m | E: 142 | S: 35500 | D: 35.4 s | R: 498.9677 | ALOSS: -106.4099 | CLOSS: 10.2928 | AUXLOSS: 0.0000\n",
            "| \u001b[33mtrain\u001b[0m | E: 143 | S: 35750 | D: 34.7 s | R: 513.5512 | ALOSS: -107.0864 | CLOSS: 9.9338 | AUXLOSS: 0.0000\n",
            "| \u001b[33mtrain\u001b[0m | E: 144 | S: 36000 | D: 35.4 s | R: 439.7661 | ALOSS: -107.7551 | CLOSS: 10.0606 | AUXLOSS: 0.0000\n",
            "| \u001b[33mtrain\u001b[0m | E: 145 | S: 36250 | D: 35.3 s | R: 495.0975 | ALOSS: -108.4990 | CLOSS: 10.1821 | AUXLOSS: 0.0000\n",
            "| \u001b[33mtrain\u001b[0m | E: 146 | S: 36500 | D: 35.2 s | R: 450.9325 | ALOSS: -109.1935 | CLOSS: 10.0007 | AUXLOSS: 0.0000\n",
            "| \u001b[33mtrain\u001b[0m | E: 147 | S: 36750 | D: 35.2 s | R: 421.3819 | ALOSS: -109.8425 | CLOSS: 10.2603 | AUXLOSS: 0.0000\n",
            "| \u001b[33mtrain\u001b[0m | E: 148 | S: 37000 | D: 35.1 s | R: 512.9588 | ALOSS: -110.4954 | CLOSS: 10.3354 | AUXLOSS: 0.0000\n",
            "| \u001b[33mtrain\u001b[0m | E: 149 | S: 37250 | D: 35.3 s | R: 505.8197 | ALOSS: -111.1546 | CLOSS: 10.2484 | AUXLOSS: 0.0000\n",
            "| \u001b[33mtrain\u001b[0m | E: 150 | S: 37500 | D: 35.2 s | R: 464.7023 | ALOSS: -111.6716 | CLOSS: 10.2495 | AUXLOSS: 0.0000\n",
            "| \u001b[33mtrain\u001b[0m | E: 151 | S: 37750 | D: 35.0 s | R: 448.7651 | ALOSS: -112.2604 | CLOSS: 10.1390 | AUXLOSS: 0.0000\n",
            "| \u001b[33mtrain\u001b[0m | E: 152 | S: 38000 | D: 35.4 s | R: 384.2829 | ALOSS: -112.9946 | CLOSS: 10.0976 | AUXLOSS: 0.0000\n",
            "| \u001b[33mtrain\u001b[0m | E: 153 | S: 38250 | D: 35.3 s | R: 488.3502 | ALOSS: -113.4959 | CLOSS: 9.9869 | AUXLOSS: 0.0000\n",
            "| \u001b[33mtrain\u001b[0m | E: 154 | S: 38500 | D: 35.5 s | R: 424.4131 | ALOSS: -114.1124 | CLOSS: 10.1521 | AUXLOSS: 0.0000\n",
            "| \u001b[33mtrain\u001b[0m | E: 155 | S: 38750 | D: 35.2 s | R: 462.0868 | ALOSS: -114.7369 | CLOSS: 10.2103 | AUXLOSS: 0.0000\n",
            "| \u001b[33mtrain\u001b[0m | E: 156 | S: 39000 | D: 35.2 s | R: 425.4802 | ALOSS: -115.2449 | CLOSS: 11.1925 | AUXLOSS: 0.0000\n",
            "| \u001b[33mtrain\u001b[0m | E: 157 | S: 39250 | D: 35.0 s | R: 457.8376 | ALOSS: -115.7116 | CLOSS: 10.7822 | AUXLOSS: 0.0000\n",
            "| \u001b[33mtrain\u001b[0m | E: 158 | S: 39500 | D: 35.2 s | R: 509.7582 | ALOSS: -116.3647 | CLOSS: 10.9885 | AUXLOSS: 0.0000\n",
            "| \u001b[33mtrain\u001b[0m | E: 159 | S: 39750 | D: 34.8 s | R: 442.9159 | ALOSS: -116.8640 | CLOSS: 10.7255 | AUXLOSS: 0.0000\n",
            "| \u001b[33mtrain\u001b[0m | E: 160 | S: 40000 | D: 34.6 s | R: 473.5820 | ALOSS: -117.5645 | CLOSS: 11.1006 | AUXLOSS: 0.0000\n",
            "Evaluating: logs/walker_walk/svea/5\n",
            "| \u001b[32meval\u001b[0m | S: 40000 | ER: 484.9149 | ERTEST: 484.2098\n",
            "| \u001b[33mtrain\u001b[0m | E: 161 | S: 40250 | D: 521.3 s | R: 440.8511 | ALOSS: -118.1048 | CLOSS: 11.2685 | AUXLOSS: 0.0000\n",
            "| \u001b[33mtrain\u001b[0m | E: 162 | S: 40500 | D: 34.9 s | R: 378.8111 | ALOSS: -118.6416 | CLOSS: 10.8276 | AUXLOSS: 0.0000\n",
            "| \u001b[33mtrain\u001b[0m | E: 163 | S: 40750 | D: 35.1 s | R: 476.9905 | ALOSS: -119.2524 | CLOSS: 11.0681 | AUXLOSS: 0.0000\n",
            "| \u001b[33mtrain\u001b[0m | E: 164 | S: 41000 | D: 35.1 s | R: 410.9189 | ALOSS: -119.7938 | CLOSS: 11.2633 | AUXLOSS: 0.0000\n",
            "| \u001b[33mtrain\u001b[0m | E: 165 | S: 41250 | D: 34.9 s | R: 461.8264 | ALOSS: -120.2301 | CLOSS: 11.5543 | AUXLOSS: 0.0000\n",
            "| \u001b[33mtrain\u001b[0m | E: 166 | S: 41500 | D: 34.9 s | R: 514.8074 | ALOSS: -120.7851 | CLOSS: 10.9908 | AUXLOSS: 0.0000\n",
            "| \u001b[33mtrain\u001b[0m | E: 167 | S: 41750 | D: 34.4 s | R: 518.8822 | ALOSS: -121.4007 | CLOSS: 11.0872 | AUXLOSS: 0.0000\n",
            "| \u001b[33mtrain\u001b[0m | E: 168 | S: 42000 | D: 34.7 s | R: 497.1556 | ALOSS: -121.9879 | CLOSS: 10.9781 | AUXLOSS: 0.0000\n",
            "| \u001b[33mtrain\u001b[0m | E: 169 | S: 42250 | D: 34.8 s | R: 483.7026 | ALOSS: -122.4367 | CLOSS: 10.7735 | AUXLOSS: 0.0000\n",
            "| \u001b[33mtrain\u001b[0m | E: 170 | S: 42500 | D: 34.8 s | R: 532.2707 | ALOSS: -122.9268 | CLOSS: 10.7815 | AUXLOSS: 0.0000\n",
            "| \u001b[33mtrain\u001b[0m | E: 171 | S: 42750 | D: 35.0 s | R: 433.6322 | ALOSS: -123.4057 | CLOSS: 10.8674 | AUXLOSS: 0.0000\n",
            "| \u001b[33mtrain\u001b[0m | E: 172 | S: 43000 | D: 34.8 s | R: 484.7418 | ALOSS: -124.0012 | CLOSS: 11.3964 | AUXLOSS: 0.0000\n",
            "| \u001b[33mtrain\u001b[0m | E: 173 | S: 43250 | D: 35.0 s | R: 426.9617 | ALOSS: -124.5946 | CLOSS: 10.9970 | AUXLOSS: 0.0000\n",
            "| \u001b[33mtrain\u001b[0m | E: 174 | S: 43500 | D: 34.4 s | R: 468.2350 | ALOSS: -125.0422 | CLOSS: 10.9958 | AUXLOSS: 0.0000\n",
            "| \u001b[33mtrain\u001b[0m | E: 175 | S: 43750 | D: 34.8 s | R: 497.3634 | ALOSS: -125.4580 | CLOSS: 10.8152 | AUXLOSS: 0.0000\n",
            "| \u001b[33mtrain\u001b[0m | E: 176 | S: 44000 | D: 34.7 s | R: 456.0296 | ALOSS: -125.9964 | CLOSS: 10.7483 | AUXLOSS: 0.0000\n",
            "| \u001b[33mtrain\u001b[0m | E: 177 | S: 44250 | D: 34.8 s | R: 457.3560 | ALOSS: -126.3089 | CLOSS: 11.0677 | AUXLOSS: 0.0000\n",
            "| \u001b[33mtrain\u001b[0m | E: 178 | S: 44500 | D: 34.8 s | R: 468.0115 | ALOSS: -126.7250 | CLOSS: 11.5063 | AUXLOSS: 0.0000\n",
            "| \u001b[33mtrain\u001b[0m | E: 179 | S: 44750 | D: 34.8 s | R: 493.1791 | ALOSS: -127.2228 | CLOSS: 11.4105 | AUXLOSS: 0.0000\n",
            "| \u001b[33mtrain\u001b[0m | E: 180 | S: 45000 | D: 34.7 s | R: 483.2943 | ALOSS: -127.7972 | CLOSS: 10.9107 | AUXLOSS: 0.0000\n"
          ]
        }
      ]
    }
  ]
}